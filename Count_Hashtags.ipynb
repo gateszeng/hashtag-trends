{
 "cells": [
  {
   "cell_type": "code",
   "execution_count": 61,
   "metadata": {},
   "outputs": [],
   "source": [
    "import numpy as np\n",
    "import pandas as pd"
   ]
  },
  {
   "cell_type": "code",
   "execution_count": 62,
   "metadata": {
    "scrolled": false
   },
   "outputs": [],
   "source": [
    "filename = \"./datasets/spacex--2019-05-20--now.csv\"\n",
    "tweets_df = pd.read_csv(filename)"
   ]
  },
  {
   "cell_type": "code",
   "execution_count": 63,
   "metadata": {},
   "outputs": [],
   "source": [
    "#tweets_df"
   ]
  },
  {
   "cell_type": "code",
   "execution_count": 65,
   "metadata": {},
   "outputs": [
    {
     "data": {
      "text/plain": [
       "#spacex                   251\n",
       "#starlink                  90\n",
       "#falcon9                   36\n",
       "#elonmusk                  20\n",
       "#starhopper                14\n",
       "#tesla                     12\n",
       "#nasa                      11\n",
       "#starship                  11\n",
       "#rocket                     6\n",
       "#science                    5\n",
       "#mars                       5\n",
       "#space                      5\n",
       "#bocachica                  4\n",
       "#falconheavy                4\n",
       "#ocisly                     3\n",
       "#roadster                   3\n",
       "#spacecoast                 3\n",
       "#sunrisewithstarhopper      2\n",
       "#ቢንያም                       2\n",
       "#pixelart                   2\n",
       "#space_station              2\n",
       "#spaceexploration           2\n",
       "#spacexfleet                2\n",
       "#blueorigin                 2\n",
       "#starman                    2\n",
       "#southpadreisland           2\n",
       "#biniam                     2\n",
       "#tech                       2\n",
       "#teslamotors                1\n",
       "#elonmuskhttps              1\n",
       "                         ... \n",
       "#teslamodels                1\n",
       "#theview                    1\n",
       "#elonthegenius              1\n",
       "#boringcompany              1\n",
       "#dragoncapsule              1\n",
       "#hongkong                   1\n",
       "#gf3                        1\n",
       "#ar                         1\n",
       "#jointhejourney             1\n",
       "#mangadrawing               1\n",
       "#b1049                      1\n",
       "#influencermarketing        1\n",
       "#family                     1\n",
       "#astronomy                  1\n",
       "#ኢትዩጵያ                      1\n",
       "#photooftheday              1\n",
       "#world                      1\n",
       "#downtown                   1\n",
       "#maxq                       1\n",
       "#astronauts                 1\n",
       "#moonbase                   1\n",
       "#arabsat6a                  1\n",
       "#travel                     1\n",
       "#fridaysforfurture          1\n",
       "#egypt                      1\n",
       "#moon                       1\n",
       "#iridium8                   1\n",
       "#cryptocurrency             1\n",
       "#8bitart                    1\n",
       "#starlink1                  1\n",
       "Length: 199, dtype: int64"
      ]
     },
     "execution_count": 65,
     "metadata": {},
     "output_type": "execute_result"
    }
   ],
   "source": [
    "# get hashtag column and make to lowercase\n",
    "hashtags_df = tweets_df.loc[:, 'hashtags'].apply(lambda x: x.lower())\n",
    "expanded_df = hashtags_df.str.split(expand=True)\n",
    "\n",
    "# get counts\n",
    "expanded_df.stack().value_counts()"
   ]
  },
  {
   "cell_type": "code",
   "execution_count": null,
   "metadata": {},
   "outputs": [],
   "source": []
  }
 ],
 "metadata": {
  "kernelspec": {
   "display_name": "Python 3",
   "language": "python",
   "name": "python3"
  },
  "language_info": {
   "codemirror_mode": {
    "name": "ipython",
    "version": 3
   },
   "file_extension": ".py",
   "mimetype": "text/x-python",
   "name": "python",
   "nbconvert_exporter": "python",
   "pygments_lexer": "ipython3",
   "version": "3.6.7"
  }
 },
 "nbformat": 4,
 "nbformat_minor": 2
}
